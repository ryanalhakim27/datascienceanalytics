{
 "cells": [
  {
   "cell_type": "code",
   "execution_count": 1,
   "id": "0cf99bb7",
   "metadata": {},
   "outputs": [],
   "source": [
    "from cashier import Transaction"
   ]
  },
  {
   "cell_type": "code",
   "execution_count": 2,
   "id": "e139c7cf",
   "metadata": {},
   "outputs": [],
   "source": [
    "t1=Transaction()"
   ]
  },
  {
   "cell_type": "code",
   "execution_count": 4,
   "id": "8176d510",
   "metadata": {},
   "outputs": [
    {
     "name": "stdout",
     "output_type": "stream",
     "text": [
      "pasta gigi has been added to order list\n"
     ]
    },
    {
     "data": {
      "text/plain": [
       "{'ayam goreng': [2, 20000], 'pasta gigi': [3, 15000]}"
      ]
     },
     "execution_count": 4,
     "metadata": {},
     "output_type": "execute_result"
    }
   ],
   "source": [
    "t1.add_item('Pasta Gigi',3,15000)"
   ]
  },
  {
   "cell_type": "code",
   "execution_count": 6,
   "id": "d06c3521",
   "metadata": {},
   "outputs": [
    {
     "name": "stdout",
     "output_type": "stream",
     "text": [
      "pasta gigi has been deleted\n"
     ]
    },
    {
     "data": {
      "text/plain": [
       "{'ayam goreng': [2, 20000]}"
      ]
     },
     "execution_count": 6,
     "metadata": {},
     "output_type": "execute_result"
    }
   ],
   "source": [
    "t1.delete_item('pasta gigi')"
   ]
  },
  {
   "cell_type": "code",
   "execution_count": 7,
   "id": "a6dbb23f",
   "metadata": {},
   "outputs": [
    {
     "name": "stdout",
     "output_type": "stream",
     "text": [
      "Are you sure want to reset the transaction? (yes/no)yes\n",
      "All item has been deleted\n"
     ]
    },
    {
     "data": {
      "text/plain": [
       "{}"
      ]
     },
     "execution_count": 7,
     "metadata": {},
     "output_type": "execute_result"
    }
   ],
   "source": [
    "t1.reset_transaction()"
   ]
  },
  {
   "cell_type": "code",
   "execution_count": 6,
   "id": "acc463a5",
   "metadata": {},
   "outputs": [
    {
     "name": "stdout",
     "output_type": "stream",
     "text": [
      "Your order list is ready\n",
      "    Nama Item                     Jumlah Item    Harga Item    Total Harga\n",
      "--  --------------------------  -------------  ------------  -------------\n",
      " 0  bakmie bakar chicken strip              1         24000          24000\n",
      " 1  es teh tawar                            2          2000           4000\n"
     ]
    }
   ],
   "source": [
    "t1.check_order()"
   ]
  },
  {
   "cell_type": "code",
   "execution_count": 7,
   "id": "de44f526",
   "metadata": {},
   "outputs": [
    {
     "name": "stdout",
     "output_type": "stream",
     "text": [
      "Order list \n",
      "\n",
      "Your order list is ready\n",
      "    Nama Item                     Jumlah Item    Harga Item    Total Harga\n",
      "--  --------------------------  -------------  ------------  -------------\n",
      " 0  bakmie bakar chicken strip              1         24000          24000\n",
      " 1  es teh tawar                            2          2000           4000\n",
      "\n",
      "\n",
      "You get discount Rp0, your bill is Rp28000\n",
      "\n",
      "\n",
      "Thank you for your transaction\n"
     ]
    }
   ],
   "source": [
    "t1.total_price()"
   ]
  },
  {
   "cell_type": "code",
   "execution_count": null,
   "id": "49879106",
   "metadata": {},
   "outputs": [],
   "source": [
    "x ='Ayam  goreng'\n",
    "x=x.strip().\n",
    "print(x)"
   ]
  },
  {
   "cell_type": "code",
   "execution_count": 6,
   "id": "a0429934",
   "metadata": {},
   "outputs": [
    {
     "name": "stdout",
     "output_type": "stream",
     "text": [
      "Help on function update_item_name in module cashier:\n",
      "\n",
      "update_item_name(self, item_name, update_item_name)\n",
      "    Change a key of item dictionnary without change its value.\n",
      "    \n",
      "    Parameters\n",
      "    ----------\n",
      "        item_name: str\n",
      "            The selected key that want to changed.\n",
      "        update_item_name: str\n",
      "            The new key that replace selected key.\n",
      "    \n",
      "    Return\n",
      "    ------\n",
      "        item: dict\n",
      "            Item dictionary with updated key-value pair \n",
      "             (update_new_item:[item_qty,item_price]).\n",
      "\n"
     ]
    }
   ],
   "source": [
    "help(Transaction.update_item_name)"
   ]
  },
  {
   "cell_type": "code",
   "execution_count": null,
   "id": "869ede11",
   "metadata": {},
   "outputs": [],
   "source": []
  },
  {
   "cell_type": "code",
   "execution_count": null,
   "id": "aa7327e4",
   "metadata": {},
   "outputs": [],
   "source": []
  }
 ],
 "metadata": {
  "kernelspec": {
   "display_name": "Python 3 (ipykernel)",
   "language": "python",
   "name": "python3"
  },
  "language_info": {
   "codemirror_mode": {
    "name": "ipython",
    "version": 3
   },
   "file_extension": ".py",
   "mimetype": "text/x-python",
   "name": "python",
   "nbconvert_exporter": "python",
   "pygments_lexer": "ipython3",
   "version": "3.10.9"
  }
 },
 "nbformat": 4,
 "nbformat_minor": 5
}
